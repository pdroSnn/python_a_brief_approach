{
 "cells": [
  {
   "cell_type": "markdown",
   "metadata": {},
   "source": [
    "# Python, uma breve abordagem"
   ]
  },
  {
   "cell_type": "markdown",
   "metadata": {},
   "source": [
    "## Introdução"
   ]
  },
  {
   "cell_type": "markdown",
   "metadata": {},
   "source": [
    "### O que é esse notebook?"
   ]
  },
  {
   "cell_type": "markdown",
   "metadata": {},
   "source": [
    "Esse notebook funciona como um \"Livro\", nele eu abordo as principais funcionalidades de uma linguagem de programação, no caso usarei **Python**, uma linguagem de alto nível e de fácil aprendizado!"
   ]
  },
  {
   "cell_type": "markdown",
   "metadata": {},
   "source": [
    "### O que é Python?"
   ]
  },
  {
   "cell_type": "markdown",
   "metadata": {},
   "source": [
    "Python foi inicialmente desenvolvida no final dos anos 80 por Guido van Rossum, um matemático e programador holândes que trabalhava no CWI (Centro de pesquisa em matemática e ciêcia da computação), nesse centro de pesquisa foram criadas outras linguagens de programação como a ABC e ALGOL, nessa época o Guido van Rossum era um dos programadores do projeto ABC. Em 1989 ele queria cirar uma linguagem intepretada e que tivesse comandos simples, como ele mesmo disse, em linha gerais, programas em C eram grandes e complicados de entender e que só programadores experientes eram capazes de entender certos programas em C.\n",
    "\n",
    "\n",
    "Depois de criada a lingugagem, veio um desafio, dar um nome a ela, dentro do CWI tinha uma \"norma\" para projetos internos que era nomear com nomes programas de televisão, com isso decidiu homenagiar seu programa de humor favorito, o Monty Python, sendo assim a linguagem passou a se chamar Python. Mas muitas pessoas acham que o seu nome tem origem da especie da cobra Python, seu logo até carrega duas cobrinhas, porém é por outro motivo, o que aconteceu é que um dos primeiros livros da linguagem foram da editora O'Reilly, uma editora conhecida por conter em sua capa litogravuras de animais, e o escolhido pelos editores foi justamente a cobra Píton. A partir desse livro a linguagem começou a ficar mais famosa e maisa ceita no mercado e seu criador aceitou a cobra píton como um dos representantes da linguagem.\n",
    "\n",
    "\n",
    "As primeiras versões foram lançadas no início da decada de 90 e a linguagem começou a ganhar fora e foi construindo uma comunidade de pessoas que gostavam da linguagem pela sua simplicidade, desse modo, van Rossum decide sair da Holanda e vai para os Estados Unidos, onde ele resolveu ensinar as pessoas a programas, lançando seu projeto CP4E (Computer Programming 4 Everybody), esse projeto recebeu investimentos da DARPA, um departamento do governo dos estods unidos repsonsaveis pela 'criação da internet' e com esse dinheiro conseguiu desenvolver ainda mais a linguagem.\n",
    "\n",
    "\n",
    "Em 2001 foi criada uma fundação, a Python Software Foundation, uma fundação sem fins lucrativos que mantem e coordenam o Python, atualmente o Python evolui de acordo com a comunidade, o que os programadores acham que deveriam existir na linguagem é decidido pela PSF ecaso for aceito é adicionado ao python. Atualmente a PSF é patricinada por grandes empresas como Microsoft, Globo.com e Google.\n",
    "\n",
    "\n",
    "A linguagem evoluiu tanto que ja vem instalda em um monte de sistemas operacionais, entre eles pode citar o Amiga OS, NetBSD, MacOS e todas as distribuiçoes LINUX, basicamente de todos os sistemas operacionais Python só não vem pré instalado no Windows. Além desses sistemas terem Python instalado, eles também usam Python nas usas \"entranhas\" para realização de processos.\n",
    "\n",
    "\n",
    "Pelo que pode ter sido observado, Python é legal, fácil e bem utilizado dentro do mercado e é considerada uma linguagem de proposito geral, não é que nem o PHP que é focado no desenvolvimento web, de maneira geral, da para usar python para basicamente tudo, isso não quer dizer que Python seja a melhor linguagem, só quer dizer que é versatil. Desde o seu princípio o Python foi feio para ser fácil e intuitivo, por isso é multiplatafora, o mesmo programa que você faz no Windows consegue ser \"rodado\" em outro sistema operacional.\n",
    "\n",
    "\n",
    "Dizem que o Python é Batteries Included (Baterias Inclusas), ou seja, ele ja vem de 'fábrica' com um monte de bibliotecas padrão, sem a necessidade de baixar muitas, mas é claro que é possível baixar centenas de bibliotecas disponiveis do Pypi (Assunto para o futuro!). A linguagem Python também é Livre, ela tem seu código aberto sob a licença específica da Python Software Foundation, que deixa o usuário baixar, estudar ou fazer redistribuições da linguagem\n",
    "\n",
    "\n",
    "É uma linguagem oragnizada, na hora de ler um código, a ordem das coisas tem que estar bem certinhas e bem indentado, o código tem que ser organizado. É uma linguagem ORientada a Objetos, tudo no Python é um objeto, até uma simples variavel é um obejto (mais para frente eu explicarei melhor esse tema)\n",
    "\n",
    "\n",
    "A linguagem vem com uma filosifa própria, chamada <a href = 'https://wiki.python.org.br/TheZenOfPython' >Zen of Python</a>, criada por Tim Peters, que vale a pena ser lida.\n"
   ]
  },
  {
   "cell_type": "markdown",
   "metadata": {},
   "source": [
    "### Principais Áreas"
   ]
  },
  {
   "cell_type": "markdown",
   "metadata": {},
   "source": [
    "\n",
    "Como os números do python são muiiito grandes, ou seja, são enormes MESMO. Desse modo existem algumas vertentes que o Python consegue lidar muito bem, como por exemplo:\n",
    "\n",
    "\n",
    "* Inteligência Artificial (Machine Learning)\n",
    "* Biotecnologia\n",
    "* Computação 3D\n",
    "    \n",
    "    \n",
    "Mas isso não quer dizer que ele não é utilizado para outras coisas, como já foi mensionado, Python é uma linguagem versátil e tem muitas outras aplicações como:\n",
    "\n",
    "\n",
    "* Desenvolvimento WEB\n",
    "* Scripting (Automatização de tarefas)\n",
    "* Jogos\n",
    "\n",
    "\n",
    "Aplicações para Desktop também são criadas, porém não se tornam tanto o foco da linguagem.\n"
   ]
  },
  {
   "cell_type": "markdown",
   "metadata": {},
   "source": [
    "### Quem usa o Python?"
   ]
  },
  {
   "cell_type": "markdown",
   "metadata": {},
   "source": [
    "\n",
    "Várias empresas usam o Python, entre elas estão:\n",
    "\n",
    "    \n",
    "* ZOPE - um gerenciador de conteudo feito interamente em Python\n",
    "* AIR CANADA - A reserva de acentos e passagens é toda feita em Python\n",
    "* Client Bittorrent - Suas primeiras versões só foram feitas em Python\n",
    "* Google - O Crawler do google foi feito em Python\n",
    "* Industrial Light Magic - se não conhece, foi a empresa que fez os efeitos especiais do filme Star Wars, sua renderização foi toda feita com Python\n",
    "\n",
    "\n",
    "Tem ainda outras como: YouTube, Nasa, Blender, Gimp, Arduino e etc\n",
    "\n",
    "\n",
    "Uma mensão honrosa ao jogo Eve Online, um mmrpg que foi feito com Python e criou a sua propria linguagem a partir do Python para ser usada dentro do jogo.\n"
   ]
  },
  {
   "cell_type": "markdown",
   "metadata": {},
   "source": [
    "### Versões do Python"
   ]
  },
  {
   "cell_type": "markdown",
   "metadata": {},
   "source": [
    "Assim como qualquer outra linguagem de programação, o Python passou por várias versões. A versão 1.0 foi lançada em 1994 estabelecendo os princípios básicos da linguagem, com ênfase na su simplicidade.\n",
    "\n",
    "\n",
    "O Python 2.0 foi lançado em 2000. Esta versão se tornou muito popular entre os programadores. Mesme sendo uma versão antiga, o Python 2 ainda é usado em alguns projetos e bibliotecas, nesse caso utilizam a versão 2.7, sua versão mais atualizada no momento.\n",
    "\n",
    "\n",
    "O Python 3.0 lançada em 2008, é a ultima versão atualmente. Ele quebrou a compatibilidade com seus antecessores para livrar a linguagem da desordem histórica e tornar o Python mais legível e consistente. Ou seja, programas escritos em Python 2 não rodam em interpretadores do Python 3.\n",
    "\n",
    "\n",
    "Portanto, hoje em dia há duas versões semelhantes, porém incompatíveis, do Python estão em uso. Ao longo deste \"Livro\", aprenderemos o Python 3.7.7 (versão atual mais estável)."
   ]
  },
  {
   "cell_type": "markdown",
   "metadata": {},
   "source": [
    "### Primeiro programa em Python!"
   ]
  },
  {
   "cell_type": "markdown",
   "metadata": {},
   "source": [
    "A seguir um programa simples que imprime na tela, **\"Ola, mundo!\"**"
   ]
  },
  {
   "cell_type": "code",
   "execution_count": 1,
   "metadata": {},
   "outputs": [
    {
     "name": "stdout",
     "output_type": "stream",
     "text": [
      "Ola, mundo!\n"
     ]
    }
   ],
   "source": [
    "print('Ola, mundo!')"
   ]
  },
  {
   "cell_type": "markdown",
   "metadata": {},
   "source": [
    "<p>No momento não importa saber como esse código funciona, e sim que sua sintaxe é bem parecida com a lingua inglesa.</p>"
   ]
  }
 ],
 "metadata": {
  "kernelspec": {
   "display_name": "Python 3",
   "language": "python",
   "name": "python3"
  },
  "language_info": {
   "codemirror_mode": {
    "name": "ipython",
    "version": 3
   },
   "file_extension": ".py",
   "mimetype": "text/x-python",
   "name": "python",
   "nbconvert_exporter": "python",
   "pygments_lexer": "ipython3",
   "version": "3.7.7"
  }
 },
 "nbformat": 4,
 "nbformat_minor": 4
}
