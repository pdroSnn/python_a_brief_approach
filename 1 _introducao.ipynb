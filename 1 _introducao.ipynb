{
 "cells": [
  {
   "cell_type": "markdown",
   "metadata": {},
   "source": [
    "# Python, uma breve abordagem"
   ]
  },
  {
   "cell_type": "markdown",
   "metadata": {},
   "source": [
    "## Introdução"
   ]
  },
  {
   "cell_type": "markdown",
   "metadata": {},
   "source": [
    "### O que é esse notebook?"
   ]
  },
  {
   "cell_type": "markdown",
   "metadata": {},
   "source": [
    "Esse notebook funciona como um \"livro\". Nele, eu abordo as principais funcionalidades de uma linguagem de programação, no caso usarei **Python**, uma linguagem de alto nível e de fácil aprendizado!"
   ]
  },
  {
   "cell_type": "markdown",
   "metadata": {},
   "source": [
    "### O que é Python?"
   ]
  },
  {
   "cell_type": "markdown",
   "metadata": {},
   "source": [
    "Python foi inicialmente desenvolvida no final dos anos 80 por Guido van Rossum, um matemático e programador holandês que trabalhava no CWI (Centro de pesquisa em matemática e ciência da computação). Lá foram criadas outras linguagens de programação, como a ABC (em que Guido van Rossum trabalhou) e ALGOL. Em 1989, ele queria criar uma linguagem interpretada e que tivesse comandos simples. Para ele, programas em C eram grandes e complicados, compreensíveis apenas por programadores experientes.\n",
    "\n",
    "\n",
    "Depois de criada a linguagem, veio o desafio de nomeá-la. Dentro do CWI havia uma \"norma\" para projetos internos: nomeá-los com nomes de programas de televisão. Assim, van Rossum decidiu homenagear seu programa de humor favorito, o Monty Python's Flying Circus, e a linguagem passou a ser chamada de Python. Muitas pessoas acham que o nome tem origem da espécie da cobra píton (python, em inglês). O logotipo da linguagem até carrega duas cobrinhas, mas por outro motivo: um dos primeiros livros da linguagem foi da editora O'Reilly, conhecida por conter em sua capa litogravuras de animais, e o escolhido pelos editores foi justamente a cobra píton. A partir desse livro, a linguagem começou a ficar mais famosa e mais aceita no mercado e seu criador aceitou a cobra píton como um dos representantes da linguagem.\n",
    "\n",
    "\n",
    "As primeiras versões foram lançadas no início da década de 90 e a linguagem começou a ganhar força, construindo uma comunidade de pessoas que gostavam de sua simplicidade. Desse modo, van Rossum decidiu sair da Holanda e ir para os Estados Unidos, onde começou a ensinar as pessoas a programar com seu projeto CP4E (Computer Programming 4 Everybody). O projeto recebeu investimentos da DARPA, um departamento do governo dos Estados Unidos responsável pela 'criação da internet', o que propiciou ainda mais o desenvolvimento da linguagem.\n",
    "\n",
    "\n",
    "Em 2001 foi criada a Python Software Foundation, uma fundação sem fins lucrativos que mantém e coordena o Python. Atualmente, o Python evolui de acordo com a comunidade, ou seja, o que os programadores acham que deve existir na linguagem é decidido pela PSF, e caso for aceito é adicionado ao Python. Atualmente, a PSF é patrocinada por grandes empresas como a Microsoft, Globo.com e Google.\n",
    "\n",
    "\n",
    "A linguagem evoluiu tanto que já vem instalada em muitos sistemas operacionais, entre eles o Amiga OS, o NetBSD, o MacOS e todas as distribuições LINUX. O Windows é um dos únicos sistemas sem o Python pré-instalado. Além disso, eles também usam Python em suas \"entranhas\" para realização de processos.\n",
    "\n",
    "\n",
    "Pelo que pode ter sido observado, Python é legal, fácil e bem utilizado dentro do mercado, também sendo considerada uma linguagem de propósito geral, ao contrário do PHP, por exemplo, que é focado no desenvolvimento web. De maneira geral, é possível usar Python para basicamente tudo, e isso não quer dizer que Python seja a melhor linguagem, só quer dizer que ela é versátil. Desde o seu princípio, o Python foi feito para ser fácil e intuitivo, por isso é multiplataforma, ou seja, o mesmo programa que você faz no Windows consegue ser \"rodado\" em outro sistema operacional.\n",
    "\n",
    "\n",
    "É dito que o Python é Batteries Included (Baterias Inclusas), ou seja, ele já vem de 'fábrica' com várias bibliotecas padrão, sem a necessidade de baixar muitas, mas é claro que é possível baixar centenas de bibliotecas disponíveis do Pypi (assunto para o futuro!). A linguagem Python também é livre, seu código é aberto sob a licença específica da Python Software Foundation, que deixa o usuário baixar, estudar ou fazer redistribuições da linguagem.\n",
    "\n",
    "\n",
    "É uma linguagem organizada: na hora de ler um código, a ordem das coisas tem que estar bem certinha e bem indentada, o código tem que ser organizado. Também é uma linguagem orientada a objetos: tudo no Python é um objeto, até uma simples variável é um objeto (mais para frente esse tema será melhor explicado).\n",
    "\n",
    "\n",
    "A linguagem vem com uma filosofia própria, chamada [Zen of Python](https://wiki.python.org.br/TheZenOfPython), criada por Tim Peters, que vale a pena ser lida.\n"
   ]
  },
  {
   "cell_type": "markdown",
   "metadata": {},
   "source": [
    "### Principais Áreas"
   ]
  },
  {
   "cell_type": "markdown",
   "metadata": {},
   "source": [
    "\n",
    "Como os números do python são muiiito grandes (ou seja, enormes MESMO) existem algumas vertentes que o Python consegue lidar muito bem, como por exemplo:\n",
    "\n",
    "\n",
    "* Inteligência Artificial (Machine Learning)\n",
    "* Biotecnologia\n",
    "* Computação 3D\n",
    "    \n",
    "    \n",
    "Mas isso não quer dizer que ele não é utilizado para outras coisas. Como já foi mencionado, Python é uma linguagem versátil e tem muitas outras aplicações, como:\n",
    "\n",
    "\n",
    "* Desenvolvimento WEB\n",
    "* Scripting (Automatização de tarefas)\n",
    "* Jogos\n",
    "\n",
    "\n",
    "Aplicações para Desktop também são criadas, porém não se tornam tanto o foco da linguagem.\n"
   ]
  },
  {
   "cell_type": "markdown",
   "metadata": {},
   "source": [
    "### Quem usa o Python?"
   ]
  },
  {
   "cell_type": "markdown",
   "metadata": {},
   "source": [
    "\n",
    "Várias empresas usam o Python, entre elas estão:\n",
    "\n",
    "    \n",
    "* ZOPE - um gerenciador de conteudo feito interamente em Python\n",
    "* AIR CANADA - A reserva de acentos e passagens é toda feita em Python\n",
    "* Client Bittorrent - Suas primeiras versões só foram feitas em Python\n",
    "* Google - O Crawler do google foi feito em Python\n",
    "* Industrial Light Magic - se não conhece, foi a empresa que fez os efeitos especiais do filme Star Wars, sua renderização foi toda feita com Python\n",
    "\n",
    "\n",
    "Tem ainda outras como: YouTube, Nasa, Blender, Gimp, Arduino e etc\n",
    "\n",
    "\n",
    "Uma menção honrosa ao jogo Eve Online, um MMORPG que foi feito com Python e criou a sua própria linguagem a partir do Python para ser usada dentro do jogo.\n"
   ]
  },
  {
   "cell_type": "markdown",
   "metadata": {},
   "source": [
    "### Versões do Python"
   ]
  },
  {
   "cell_type": "markdown",
   "metadata": {},
   "source": [
    "Assim como qualquer outra linguagem de programação, o Python passou por várias versões. A versão 1.0 foi lançada em 1994, estabelecendo os princípios básicos da linguagem, com ênfase na sua simplicidade.\n",
    "\n",
    "\n",
    "O Python 2.0 foi lançado em 2000, se tornando muito popular entre os programadores. Mesmo sendo uma versão antiga, o Python 2 ainda é usado em alguns projetos e bibliotecas, que nesse caso utilizam a versão 2.7, sua versão mais atualizada no momento.\n",
    "\n",
    "\n",
    "O Python 3.0 foi lançado em 2008, e é a última versão atualmente. Ele quebrou a compatibilidade com seus antecessores para livrar a linguagem da desordem histórica e tornar o Python mais legível e consistente. Ou seja, programas escritos em Python 2 não rodam em interpretadores do Python 3.\n",
    "\n",
    "\n",
    "Portanto, hoje em dia há duas versões semelhantes, porém incompatíveis, do Python em uso. Ao longo deste \"livro\" aprenderemos o Python 3.7.7 (versão atual mais estável)."
   ]
  },
  {
   "cell_type": "markdown",
   "metadata": {},
   "source": [
    "### Primeiro programa em Python!"
   ]
  },
  {
   "cell_type": "markdown",
   "metadata": {},
   "source": [
    "A seguir um programa simples que imprime na tela, **\"Ola, mundo!\"**"
   ]
  },
  {
   "cell_type": "code",
   "execution_count": 1,
   "metadata": {},
   "outputs": [
    {
     "name": "stdout",
     "output_type": "stream",
     "text": [
      "Ola, mundo!\n"
     ]
    }
   ],
   "source": [
    "print('Ola, mundo!')"
   ]
  },
  {
   "cell_type": "markdown",
   "metadata": {},
   "source": [
    "<p>No momento não importa saber como esse código funciona, e sim que sua sintaxe é bem parecida com a língua inglesa.</p>"
   ]
  }
 ],
 "metadata": {
  "kernelspec": {
   "display_name": "Python 3",
   "language": "python",
   "name": "python3"
  },
  "language_info": {
   "codemirror_mode": {
    "name": "ipython",
    "version": 3
   },
   "file_extension": ".py",
   "mimetype": "text/x-python",
   "name": "python",
   "nbconvert_exporter": "python",
   "pygments_lexer": "ipython3",
   "version": "3.7.7"
  }
 },
 "nbformat": 4,
 "nbformat_minor": 4
}
